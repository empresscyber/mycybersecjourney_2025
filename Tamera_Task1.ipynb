{
  "nbformat": 4,
  "nbformat_minor": 0,
  "metadata": {
    "colab": {
      "provenance": [],
      "authorship_tag": "ABX9TyNAf3a635Y9PRUpemK6XHMM",
      "include_colab_link": true
    },
    "kernelspec": {
      "name": "python3",
      "display_name": "Python 3"
    },
    "language_info": {
      "name": "python"
    }
  },
  "cells": [
    {
      "cell_type": "markdown",
      "metadata": {
        "id": "view-in-github",
        "colab_type": "text"
      },
      "source": [
        "<a href=\"https://colab.research.google.com/github/empresscyber/mycybersecjourney_2025/blob/main/Tamera_Task1.ipynb\" target=\"_parent\"><img src=\"https://colab.research.google.com/assets/colab-badge.svg\" alt=\"Open In Colab\"/></a>"
      ]
    },
    {
      "cell_type": "code",
      "source": [
        "pip install python-whois"
      ],
      "metadata": {
        "colab": {
          "base_uri": "https://localhost:8080/"
        },
        "id": "jWW78dGqK-Dp",
        "outputId": "0189e1f7-c718-478c-dfcf-3407abd8e387"
      },
      "execution_count": 2,
      "outputs": [
        {
          "output_type": "stream",
          "name": "stdout",
          "text": [
            "Collecting python-whois\n",
            "  Downloading python_whois-0.9.5-py3-none-any.whl.metadata (2.6 kB)\n",
            "Requirement already satisfied: python-dateutil in /usr/local/lib/python3.12/dist-packages (from python-whois) (2.9.0.post0)\n",
            "Requirement already satisfied: six>=1.5 in /usr/local/lib/python3.12/dist-packages (from python-dateutil->python-whois) (1.17.0)\n",
            "Downloading python_whois-0.9.5-py3-none-any.whl (104 kB)\n",
            "\u001b[2K   \u001b[90m━━━━━━━━━━━━━━━━━━━━━━━━━━━━━━━━━━━━━━━━\u001b[0m \u001b[32m104.2/104.2 kB\u001b[0m \u001b[31m1.9 MB/s\u001b[0m eta \u001b[36m0:00:00\u001b[0m\n",
            "\u001b[?25hInstalling collected packages: python-whois\n",
            "Successfully installed python-whois-0.9.5\n"
          ]
        }
      ]
    },
    {
      "cell_type": "code",
      "source": [
        "import whois\n",
        "sites = [\"facebook.com\",\"youtube.com\",\"chatgpt.com\",\"x.com\",\"tiktok.com\",\"reddit.com\",\"wechat.com\",\"linkedin.com\",\"snapchat.com\",\"pinterest.com\"]\n",
        "companies = [whois.whois(s).registrar for s in sites]\n",
        "print(companies)"
      ],
      "metadata": {
        "colab": {
          "base_uri": "https://localhost:8080/"
        },
        "id": "xSGqQzItLHRN",
        "outputId": "555e0c4d-5570-499e-c2f4-2829167bb9b0"
      },
      "execution_count": 18,
      "outputs": [
        {
          "output_type": "stream",
          "name": "stdout",
          "text": [
            "['RegistrarSafe, LLC', 'MarkMonitor, Inc.', 'MarkMonitor Inc.', 'GoDaddy.com, LLC', 'Gandi SAS', 'MarkMonitor, Inc.', 'MarkMonitor Information Technology (Shanghai) Co., Ltd.', 'MarkMonitor, Inc.', 'MarkMonitor, Inc.', 'MarkMonitor Inc.']\n"
          ]
        }
      ]
    }
  ]
}